{
  "cells": [
    {
      "cell_type": "markdown",
      "metadata": {
        "id": "7x0oTmzfDTQq"
      },
      "source": [
        "# **Cours 1 : Introduction à Python**\n",
        "\n",
        "## **Présentation du langage Python**\n",
        "\n",
        "Python est un langage de programmation interprété, orienté objet et de haut niveau, avec une syntaxe claire et facile à apprendre. Il est largement utilisé dans de nombreux domaines tels que le développement web, l'analyse de données, l'intelligence artificielle et, bien sûr, les humanités numériques.\n",
        "\n",
        "---\n",
        "\n",
        "## **Bases de la programmation en Python**\n",
        "\n",
        "### **Variables et types de données**\n",
        "\n",
        "#### **1. Types de données de base**\n",
        "\n",
        "##### **Integer (int) - Nombres entiers**"
      ]
    },
    {
      "cell_type": "code",
      "execution_count": null,
      "metadata": {
        "id": "BUlq2vz_DTQr",
        "outputId": "0f834714-6672-4027-f731-bf2f02d71e7f"
      },
      "outputs": [
        {
          "name": "stdout",
          "output_type": "stream",
          "text": [
            "42\n",
            "<class 'int'>\n"
          ]
        }
      ],
      "source": [
        "nombre_entier = 42\n",
        "print(nombre_entier)\n",
        "print(type(nombre_entier))"
      ]
    },
    {
      "cell_type": "markdown",
      "metadata": {
        "id": "oL7S-fU0DTQs"
      },
      "source": [
        "##### **Float - Nombres à virgule flottante**"
      ]
    },
    {
      "cell_type": "code",
      "execution_count": 1,
      "metadata": {
        "id": "VsNjUq4pDTQt",
        "outputId": "afe03b7a-5e9a-4247-cd6b-371a2037a857",
        "colab": {
          "base_uri": "https://localhost:8080/"
        }
      },
      "outputs": [
        {
          "output_type": "stream",
          "name": "stdout",
          "text": [
            "3.14\n",
            "<class 'float'>\n"
          ]
        }
      ],
      "source": [
        "nombre_flottant = 3.14\n",
        "print(nombre_flottant)\n",
        "print(type(nombre_flottant))"
      ]
    },
    {
      "cell_type": "markdown",
      "metadata": {
        "id": "H0B4d2CRDTQt"
      },
      "source": [
        "##### **String (str) - Chaînes de caractères**"
      ]
    },
    {
      "cell_type": "code",
      "execution_count": null,
      "metadata": {
        "id": "pGIiDTjdDTQu",
        "outputId": "6192d906-cb4c-4a07-8fc8-b87c1fcbd144"
      },
      "outputs": [
        {
          "name": "stdout",
          "output_type": "stream",
          "text": [
            "Bonjour, Python!\n",
            "<class 'str'>\n"
          ]
        }
      ],
      "source": [
        "chaine_de_caracteres = \"Bonjour, Python!\"\n",
        "print(chaine_de_caracteres)\n",
        "print(type(chaine_de_caracteres))"
      ]
    },
    {
      "cell_type": "markdown",
      "metadata": {
        "id": "pF-7FqvMDTQu"
      },
      "source": [
        "**f-strings** (formatage de chaînes introduit en Python 3.6) :"
      ]
    },
    {
      "cell_type": "code",
      "execution_count": null,
      "metadata": {
        "id": "a_FdWmREDTQv",
        "outputId": "fa16fef0-374f-4917-fb97-d99bdf7c1dbb"
      },
      "outputs": [
        {
          "name": "stdout",
          "output_type": "stream",
          "text": [
            "Je m'appelle Alice et j'ai 25 ans.\n"
          ]
        }
      ],
      "source": [
        "nom = \"Alice\"\n",
        "age = 25\n",
        "print(f\"Je m'appelle {nom} et j'ai {age} ans.\")"
      ]
    },
    {
      "cell_type": "markdown",
      "metadata": {
        "id": "sChrGZB9DTQv"
      },
      "source": [
        "##### **Booléen (bool) - Valeurs logiques**"
      ]
    },
    {
      "cell_type": "code",
      "execution_count": null,
      "metadata": {
        "id": "umlfIY9gDTQw",
        "outputId": "bbed47b7-a9c4-4550-813e-c1e54f047b58"
      },
      "outputs": [
        {
          "name": "stdout",
          "output_type": "stream",
          "text": [
            "True\n",
            "<class 'bool'>\n"
          ]
        }
      ],
      "source": [
        "est_vrai = True\n",
        "est_faux = False\n",
        "print(est_vrai)\n",
        "print(type(est_vrai))"
      ]
    },
    {
      "cell_type": "markdown",
      "metadata": {
        "id": "fgUX3TxLDTQw"
      },
      "source": [
        "#### **Exercice 1 : Manipulation des types de données de base**\n",
        "Créez des variables pour chaque type de données de base (int, float, str, bool) avec des valeurs de votre choix et affichez-les."
      ]
    },
    {
      "cell_type": "markdown",
      "metadata": {
        "id": "9nM-FiCdDTQx"
      },
      "source": [
        "*Solution :*"
      ]
    },
    {
      "cell_type": "code",
      "execution_count": null,
      "metadata": {
        "id": "hPx4mk9LDTQx"
      },
      "outputs": [],
      "source": []
    },
    {
      "cell_type": "markdown",
      "metadata": {
        "id": "JopR10ExDTQx"
      },
      "source": [
        "#### **2. Structures de données**\n",
        "\n",
        "##### **Listes**\n",
        "\n",
        "Une liste est une collection ordonnée et modifiable d'éléments.\n",
        "\n",
        "**Création d'une liste :**"
      ]
    },
    {
      "cell_type": "code",
      "execution_count": null,
      "metadata": {
        "id": "WePXHGbxDTQx",
        "outputId": "c2776035-2510-4653-c521-04f3a0b55dd8"
      },
      "outputs": [
        {
          "name": "stdout",
          "output_type": "stream",
          "text": [
            "['draco', 'unicorn', 'baslisk']\n"
          ]
        }
      ],
      "source": [
        "animals = [\"draco\", \"unicorn\", \"baslisk\"]\n",
        "print(animals)"
      ]
    },
    {
      "cell_type": "markdown",
      "metadata": {
        "id": "O7y8ksHYDTQy"
      },
      "source": [
        "**Accéder aux éléments :**"
      ]
    },
    {
      "cell_type": "code",
      "execution_count": null,
      "metadata": {
        "id": "zcOG7TUHDTQy",
        "outputId": "e2231539-daa7-449f-aa14-dde247860ba0"
      },
      "outputs": [
        {
          "name": "stdout",
          "output_type": "stream",
          "text": [
            "draco\n",
            "baslisk\n"
          ]
        }
      ],
      "source": [
        "print(animals[0])  # Premier élément\n",
        "print(animals[-1])  # Dernier élément"
      ]
    },
    {
      "cell_type": "markdown",
      "metadata": {
        "id": "7OELu4-yDTQy"
      },
      "source": [
        "**Modifier un élément :**"
      ]
    },
    {
      "cell_type": "code",
      "execution_count": null,
      "metadata": {
        "id": "7_sY0JJGDTQy",
        "outputId": "d24b5557-471d-483d-c6fa-4cd42e13e8d1"
      },
      "outputs": [
        {
          "name": "stdout",
          "output_type": "stream",
          "text": [
            "['draco', 'amphisbena', 'baslisk']\n"
          ]
        }
      ],
      "source": [
        "animals[1] = \"amphisbena\"\n",
        "print(animals)"
      ]
    },
    {
      "cell_type": "markdown",
      "metadata": {
        "id": "97jA5edwDTQz"
      },
      "source": [
        "**Méthodes utiles :**\n",
        "- `append()` : Ajouter un élément à la fin de la liste"
      ]
    },
    {
      "cell_type": "code",
      "execution_count": null,
      "metadata": {
        "id": "XQzFmSZmDTQz",
        "outputId": "cdfb5e50-84e0-4c47-eacd-21389aa1a536"
      },
      "outputs": [
        {
          "name": "stdout",
          "output_type": "stream",
          "text": [
            "['draco', 'amphisbena', 'baslisk', 'patnhera']\n"
          ]
        }
      ],
      "source": [
        "animals.append(\"patnhera\")\n",
        "print(animals)"
      ]
    },
    {
      "cell_type": "markdown",
      "metadata": {
        "id": "1Pu4TTYlDTQz"
      },
      "source": [
        "- `sort()` : Trier la liste"
      ]
    },
    {
      "cell_type": "code",
      "execution_count": null,
      "metadata": {
        "id": "74UJkERiDTQ0",
        "outputId": "57ff47ea-4e93-45c8-aa2f-c3f9af497c6f"
      },
      "outputs": [
        {
          "name": "stdout",
          "output_type": "stream",
          "text": [
            "['draco', 'amphisbena', 'baslisk', 'patnhera']\n"
          ]
        }
      ],
      "source": [
        "animals.sort\n",
        "print(animals)"
      ]
    },
    {
      "cell_type": "markdown",
      "metadata": {
        "id": "btwjJ22zDTQ0"
      },
      "source": [
        "##### **Exercice 2 : Manipulation des listes**\n",
        "\n",
        "Créez une liste contenant les noms de 5 de vos films préférés. Affichez le troisième film de la liste, ajoutez un nouveau film à la fin, puis triez la liste par ordre alphabétique.\n",
        "\n",
        "*Solution :*"
      ]
    },
    {
      "cell_type": "code",
      "execution_count": null,
      "metadata": {
        "id": "WTYKUNJODTQ0"
      },
      "outputs": [],
      "source": [
        "# Votre code ici"
      ]
    },
    {
      "cell_type": "markdown",
      "metadata": {
        "id": "ZxbyDWedDTQ1"
      },
      "source": [
        "##### **Tuples**\n",
        "\n",
        "Un tuple est similaire à une liste, mais il est immuable (non modifiable après sa création).\n",
        "\n",
        "**Création d'un tuple :**"
      ]
    },
    {
      "cell_type": "code",
      "execution_count": null,
      "metadata": {
        "id": "lubrmY3gDTQ1",
        "outputId": "91deb301-4495-40ff-b051-bd24b3c68dfa"
      },
      "outputs": [
        {
          "name": "stdout",
          "output_type": "stream",
          "text": [
            "('Add 11283', 'Aberdeen 24', 'Bern 318')\n"
          ]
        }
      ],
      "source": [
        "ms_list = (\"Add 11283\", \"Aberdeen 24\", \"Bern 318\")\n",
        "print(ms_list)"
      ]
    },
    {
      "cell_type": "markdown",
      "metadata": {
        "id": "Bn8XYa35DTQ1"
      },
      "source": [
        "**Accéder aux éléments :**"
      ]
    },
    {
      "cell_type": "code",
      "execution_count": null,
      "metadata": {
        "id": "JwhDpH9EDTQ1",
        "outputId": "fb4bdaca-e8a6-4ed2-91d0-28d969e611b5"
      },
      "outputs": [
        {
          "name": "stdout",
          "output_type": "stream",
          "text": [
            "Add 11283\n"
          ]
        }
      ],
      "source": [
        "print(ms_list[0])"
      ]
    },
    {
      "cell_type": "markdown",
      "metadata": {
        "id": "WVRDgGSmDTQ2"
      },
      "source": [
        "##### **Exercice 3 : Utilisation des tuples**\n",
        "\n",
        "Créez un tuple avec les jours de la semaine. Essayez de modifier l'un des éléments du tuple et observez le résultat.\n",
        "\n",
        "*Solution :*"
      ]
    },
    {
      "cell_type": "code",
      "execution_count": null,
      "metadata": {
        "id": "Nm2OHoGRDTQ2"
      },
      "outputs": [],
      "source": [
        "# Votre code ici"
      ]
    },
    {
      "cell_type": "markdown",
      "metadata": {
        "id": "waksuYhrDTQ2"
      },
      "source": [
        "##### **Dictionnaires**\n",
        "\n",
        "Un dictionnaire est une collection non ordonnée de paires clé-valeur.\n",
        "\n",
        "**Création d'un dictionnaire :**"
      ]
    },
    {
      "cell_type": "code",
      "execution_count": null,
      "metadata": {
        "id": "4S4vCHZuDTQ2",
        "outputId": "1d7b70d3-11ea-4867-e72e-2c17e03a9248"
      },
      "outputs": [
        {
          "name": "stdout",
          "output_type": "stream",
          "text": [
            "{'nom': 'David', 'âge': 34, 'ville': 'Paris'}\n"
          ]
        }
      ],
      "source": [
        "personne = {\"nom\": \"David\", \"âge\": 34, \"ville\": \"Paris\"}\n",
        "print(personne)"
      ]
    },
    {
      "cell_type": "markdown",
      "metadata": {
        "id": "cKK4qmIKDTQ3"
      },
      "source": [
        "**Accéder aux valeurs :**"
      ]
    },
    {
      "cell_type": "code",
      "execution_count": null,
      "metadata": {
        "id": "i4IdwUsZDTQ3",
        "outputId": "6aef4ddf-ff04-48b9-a576-5b2e5310212c"
      },
      "outputs": [
        {
          "name": "stdout",
          "output_type": "stream",
          "text": [
            "David\n"
          ]
        }
      ],
      "source": [
        "print(personne[\"nom\"])"
      ]
    },
    {
      "cell_type": "markdown",
      "metadata": {
        "id": "8rGcaEeoDTQ3"
      },
      "source": [
        "**Ajouter une nouvelle paire clé-valeur :**"
      ]
    },
    {
      "cell_type": "code",
      "execution_count": null,
      "metadata": {
        "id": "TnUF3nNdDTQ3",
        "outputId": "2f4d62de-9c5e-4b3c-f175-8be23af2efc6"
      },
      "outputs": [
        {
          "name": "stdout",
          "output_type": "stream",
          "text": [
            "{'nom': 'David', 'âge': 34, 'ville': 'Paris', 'profession': 'Réalisateur'}\n"
          ]
        }
      ],
      "source": [
        "personne[\"profession\"] = \"Réalisateur\"\n",
        "print(personne)"
      ]
    },
    {
      "cell_type": "markdown",
      "metadata": {
        "id": "gWq4pwB6DTQ4"
      },
      "source": [
        "**Méthodes utiles :**\n",
        "\n",
        "- `keys()` : Retourne les clés du dictionnaire"
      ]
    },
    {
      "cell_type": "code",
      "execution_count": null,
      "metadata": {
        "id": "H0RMiFn9DTQ4",
        "outputId": "c7cbd793-baed-44a9-864f-9ec70fe66218"
      },
      "outputs": [
        {
          "name": "stdout",
          "output_type": "stream",
          "text": [
            "dict_keys(['nom', 'âge', 'ville', 'profession'])\n"
          ]
        }
      ],
      "source": [
        "print(personne.keys())"
      ]
    },
    {
      "cell_type": "markdown",
      "metadata": {
        "id": "0_5zRKu3DTQ4"
      },
      "source": [
        "- `values()` : Retourne les valeurs du dictionnaire"
      ]
    },
    {
      "cell_type": "code",
      "execution_count": null,
      "metadata": {
        "id": "BOIq44IEDTQ4",
        "outputId": "86928f34-abb1-4d74-bc6b-92664bf58da2"
      },
      "outputs": [
        {
          "name": "stdout",
          "output_type": "stream",
          "text": [
            "dict_values(['David', 34, 'Paris', 'Réalisateur'])\n"
          ]
        }
      ],
      "source": [
        "print(personne.values())"
      ]
    },
    {
      "cell_type": "markdown",
      "metadata": {
        "id": "CdztmHDsDTQ4"
      },
      "source": [
        "##### **Exercice 4 : Manipulation des dictionnaires**\n",
        "\n",
        "Créez un dictionnaire contenant des informations sur un livre (titre, auteur, année de publication). Affichez le titre du livre et ajoutez le nombre de pages au dictionnaire.\n",
        "\n",
        "*Solution :*"
      ]
    },
    {
      "cell_type": "code",
      "execution_count": null,
      "metadata": {
        "id": "KP002keuDTQ5"
      },
      "outputs": [],
      "source": [
        "# Votre code ici"
      ]
    },
    {
      "cell_type": "markdown",
      "metadata": {
        "id": "GLZ4HqwKDTQ5"
      },
      "source": [
        "#### **Sets (Ensembles)**\n",
        "\n",
        "Les sets sont des collections non ordonnées d'éléments uniques.\n",
        "\n",
        "##### **Création d'un set**"
      ]
    },
    {
      "cell_type": "code",
      "execution_count": null,
      "metadata": {
        "id": "ZTgkrs2MDTQ5",
        "outputId": "0d770faa-265a-413d-e73f-dc1f9e9e8330"
      },
      "outputs": [
        {
          "name": "stdout",
          "output_type": "stream",
          "text": [
            "{1, 2, 3, 4, 5}\n"
          ]
        }
      ],
      "source": [
        "mon_set = {1, 2, 3, 4, 5}\n",
        "print(mon_set)"
      ]
    },
    {
      "cell_type": "markdown",
      "metadata": {
        "id": "6x3IdAnhDTQ5"
      },
      "source": [
        "**Remarque** : Pour créer un set vide, utilisez `set()` et non `{}`, car `{}` crée un dictionnaire vide."
      ]
    },
    {
      "cell_type": "code",
      "execution_count": null,
      "metadata": {
        "id": "dSvNfanCDTQ5",
        "outputId": "601f1d7c-024f-40c0-c337-3ea409c80a88"
      },
      "outputs": [
        {
          "name": "stdout",
          "output_type": "stream",
          "text": [
            "set()\n"
          ]
        }
      ],
      "source": [
        "set_vide = set()\n",
        "print(set_vide)"
      ]
    },
    {
      "cell_type": "markdown",
      "metadata": {
        "id": "2DXq2mAbDTQ6"
      },
      "source": [
        "##### **Propriétés des sets**\n",
        "\n",
        "- **Pas d'indexation** : Vous ne pouvez pas accéder aux éléments par leur position.\n",
        "- **Éléments uniques** : Les doublons sont automatiquement supprimés."
      ]
    },
    {
      "cell_type": "code",
      "execution_count": null,
      "metadata": {
        "id": "hAJpAy2TDTQ6",
        "outputId": "d034afad-b2bb-4b1f-c250-7c04be2e58cd"
      },
      "outputs": [
        {
          "name": "stdout",
          "output_type": "stream",
          "text": [
            "{1, 2, 3, 4, 5}\n"
          ]
        }
      ],
      "source": [
        "mon_set = {1, 2, 2, 3, 4, 4, 5}\n",
        "print(mon_set)  # Affiche {1, 2, 3, 4, 5}"
      ]
    },
    {
      "cell_type": "markdown",
      "metadata": {
        "id": "gWMu1HkNDTQ6"
      },
      "source": [
        "##### **Opérations ensemblistes**\n",
        "\n",
        "- **Union**"
      ]
    },
    {
      "cell_type": "code",
      "execution_count": null,
      "metadata": {
        "id": "0BUMZTkoDTQ7",
        "outputId": "b9dab3e2-35c0-4f08-e10f-4121c15707d1"
      },
      "outputs": [
        {
          "name": "stdout",
          "output_type": "stream",
          "text": [
            "{1, 2, 3, 4, 5}\n"
          ]
        }
      ],
      "source": [
        "set1 = {1, 2, 3}\n",
        "set2 = {3, 4, 5}\n",
        "union = set1.union(set2)\n",
        "print(union)  # Affiche {1, 2, 3, 4, 5}"
      ]
    },
    {
      "cell_type": "markdown",
      "metadata": {
        "id": "DUesEqfDDTQ7"
      },
      "source": [
        "- **Intersection**"
      ]
    },
    {
      "cell_type": "code",
      "execution_count": null,
      "metadata": {
        "id": "kATsuNb9DTQ7",
        "outputId": "b1495108-e075-4e2f-d0c2-2edbd470f269"
      },
      "outputs": [
        {
          "name": "stdout",
          "output_type": "stream",
          "text": [
            "{3}\n"
          ]
        }
      ],
      "source": [
        "intersection = set1.intersection(set2)\n",
        "print(intersection)  # Affiche {3}"
      ]
    },
    {
      "cell_type": "markdown",
      "metadata": {
        "id": "_auUirOYDTQ7"
      },
      "source": [
        "- **Différence**"
      ]
    },
    {
      "cell_type": "code",
      "execution_count": null,
      "metadata": {
        "id": "rC7VBGkwDTQ8",
        "outputId": "8a185719-ccc9-4c0e-a7c8-7280875e8dac"
      },
      "outputs": [
        {
          "name": "stdout",
          "output_type": "stream",
          "text": [
            "{1, 2}\n"
          ]
        }
      ],
      "source": [
        "difference = set1.difference(set2)\n",
        "print(difference)  # Affiche {1, 2}"
      ]
    },
    {
      "cell_type": "markdown",
      "metadata": {
        "id": "tkwvAqj3DTQ8"
      },
      "source": [
        "- **Différence symétrique**"
      ]
    },
    {
      "cell_type": "code",
      "execution_count": null,
      "metadata": {
        "id": "riBgN1bVDTQ8",
        "outputId": "ed13dba6-ea27-4273-cf94-879d44311539"
      },
      "outputs": [
        {
          "name": "stdout",
          "output_type": "stream",
          "text": [
            "{1, 2, 4, 5}\n"
          ]
        }
      ],
      "source": [
        "difference_sym = set1.symmetric_difference(set2)\n",
        "print(difference_sym)  # Affiche {1, 2, 4, 5}"
      ]
    },
    {
      "cell_type": "markdown",
      "metadata": {
        "id": "Dn3znq6NDTQ8"
      },
      "source": [
        "##### **Méthodes courantes**\n",
        "- `add(element)`: Ajoute un élément."
      ]
    },
    {
      "cell_type": "code",
      "execution_count": null,
      "metadata": {
        "id": "mLE4jf75DTQ8",
        "outputId": "06693607-0290-41cd-d403-158345b79b18"
      },
      "outputs": [
        {
          "name": "stdout",
          "output_type": "stream",
          "text": [
            "{1, 2, 3, 4, 5, 6}\n"
          ]
        }
      ],
      "source": [
        "mon_set.add(6)\n",
        "print(mon_set)"
      ]
    },
    {
      "cell_type": "markdown",
      "metadata": {
        "id": "PrFY0JCtDTQ9"
      },
      "source": [
        "- `remove(element)`: Supprime un élément (erreur si l'élément n'existe pas)."
      ]
    },
    {
      "cell_type": "code",
      "execution_count": null,
      "metadata": {
        "id": "DP4Kw_fFDTQ9"
      },
      "outputs": [],
      "source": [
        "mon_set.remove(2)"
      ]
    },
    {
      "cell_type": "markdown",
      "metadata": {
        "id": "tOKxXZP9DTQ9"
      },
      "source": [
        "- `discard(element)`: Supprime un élément (pas d'erreur si l'élément n'existe pas)."
      ]
    },
    {
      "cell_type": "code",
      "execution_count": null,
      "metadata": {
        "id": "vQa76wdgDTQ9"
      },
      "outputs": [],
      "source": [
        "mon_set.discard(10)  # Ne fait rien, pas d'erreur"
      ]
    },
    {
      "cell_type": "markdown",
      "metadata": {
        "id": "zavKMrbxDTQ9"
      },
      "source": [
        "##### **Exercice : Manipulation des Sets**\n",
        "\n",
        "1. Créez un set `voyelles` contenant les lettres `'a'`, `'e'`, `'i'`, `'o'`, `'u'`.\n",
        "\n"
      ]
    },
    {
      "cell_type": "code",
      "execution_count": null,
      "metadata": {
        "id": "oe0O1QwZDTQ-"
      },
      "outputs": [],
      "source": [
        "# Votre code ici"
      ]
    },
    {
      "cell_type": "markdown",
      "metadata": {
        "id": "wECvF5qHDTQ-"
      },
      "source": [
        "2. Entrer une phrase."
      ]
    },
    {
      "cell_type": "code",
      "execution_count": null,
      "metadata": {
        "id": "rup_GpdoDTQ-"
      },
      "outputs": [],
      "source": [
        "# Votre code ici"
      ]
    },
    {
      "cell_type": "markdown",
      "metadata": {
        "id": "EUJDpzm3DTQ-"
      },
      "source": [
        "3. Trouvez les voyelles utilisées dans la phrase."
      ]
    },
    {
      "cell_type": "code",
      "execution_count": null,
      "metadata": {
        "id": "pR-fQ3JRDTQ-"
      },
      "outputs": [],
      "source": [
        "# Votre code ici"
      ]
    },
    {
      "cell_type": "markdown",
      "metadata": {
        "id": "zUEEuVkhDTQ_"
      },
      "source": [
        "4. Affichez le nombre de voyelles différentes utilisées."
      ]
    },
    {
      "cell_type": "code",
      "execution_count": null,
      "metadata": {
        "id": "aWQulPd5DTQ_"
      },
      "outputs": [],
      "source": [
        "# Votre code ici"
      ]
    },
    {
      "cell_type": "markdown",
      "metadata": {
        "id": "qTNcBsDrDTQ_"
      },
      "source": [
        "### **Récapitulatif des Types de Données**\n",
        "\n",
        "- **Types de base** :\n",
        "  - **int** : Nombres entiers\n",
        "  - **float** : Nombres à virgule flottante\n",
        "  - **str** : Chaînes de caractères\n",
        "  - **bool** : Booléens (`True` ou `False`)\n",
        "\n",
        "- **Structures de données** :\n",
        "  - **Listes** : Séquences ordonnées et modifiables\n",
        "  - **Tuples** : Séquences ordonnées et immuables\n",
        "  - **Sets (Ensembles)** : Collections non ordonnées d'éléments uniques\n",
        "  - **Dictionnaires** : Collections non ordonnées de paires clé-valeur"
      ]
    },
    {
      "cell_type": "markdown",
      "metadata": {
        "id": "Bwv-m5TrDTQ_"
      },
      "source": [
        "### **Opérateurs logiques et manipulation de variables**\n",
        "\n",
        "#### **1. Concaténation**\n",
        "\n",
        "Assembler des chaînes de caractères."
      ]
    },
    {
      "cell_type": "code",
      "execution_count": null,
      "metadata": {
        "id": "TXJ4Oi7ADTQ_",
        "outputId": "fe4d26f1-55e9-4bb0-898e-e410e795b5fa"
      },
      "outputs": [
        {
          "name": "stdout",
          "output_type": "stream",
          "text": [
            "Marion Chaouabti\n"
          ]
        }
      ],
      "source": [
        "prenom = \"Marion\"\n",
        "nom = \"Chaouabti\"\n",
        "nom_complet = prenom + \" \" + nom\n",
        "print(nom_complet)"
      ]
    },
    {
      "cell_type": "markdown",
      "metadata": {
        "id": "LgoVWci9DTRA"
      },
      "source": [
        "#### **2. Indexation**\n",
        "\n",
        "Accéder à un caractère spécifique dans une chaîne."
      ]
    },
    {
      "cell_type": "code",
      "execution_count": null,
      "metadata": {
        "id": "ymJ06teIDTRA",
        "outputId": "e5e37fdd-5f6c-4adc-8faa-d6221a288002"
      },
      "outputs": [
        {
          "name": "stdout",
          "output_type": "stream",
          "text": [
            "P\n",
            "n\n"
          ]
        }
      ],
      "source": [
        "mot = \"Python\"\n",
        "print(mot[0])    # Premier caractère\n",
        "print(mot[-1])   # Dernier caractère"
      ]
    },
    {
      "cell_type": "markdown",
      "metadata": {
        "id": "LSo6LJNfDTRA"
      },
      "source": [
        "#### **3. Tranchage (Slicing)**\n",
        "\n",
        "Obtenir une sous-chaîne."
      ]
    },
    {
      "cell_type": "code",
      "execution_count": null,
      "metadata": {
        "id": "yLCmubASDTRA",
        "outputId": "567e738b-9bc8-48e0-a3d8-1b03fbd511fd"
      },
      "outputs": [
        {
          "name": "stdout",
          "output_type": "stream",
          "text": [
            "Draco\n",
            "maior\n"
          ]
        }
      ],
      "source": [
        "citation = \"Draco maior est animalibus\"\n",
        "print(citation[0:5])    # 'Draco'\n",
        "print(citation[6:11])   # 'maior'"
      ]
    },
    {
      "cell_type": "markdown",
      "metadata": {
        "id": "vXTWT3SRDTRA"
      },
      "source": [
        "#### **4. Méthodes utiles**\n",
        "\n",
        "- `type()`: Obtenir le type d'une variable"
      ]
    },
    {
      "cell_type": "code",
      "execution_count": null,
      "metadata": {
        "id": "jxbwbbRWDTRB",
        "outputId": "b594315b-363b-400e-afcf-c343540e910d"
      },
      "outputs": [
        {
          "name": "stdout",
          "output_type": "stream",
          "text": [
            "<class 'str'>\n"
          ]
        }
      ],
      "source": [
        "print(type(mot))"
      ]
    },
    {
      "cell_type": "markdown",
      "metadata": {
        "id": "qnXnxJhsDTRB"
      },
      "source": [
        "- `len()`: Obtenir la longueur d'une séquence"
      ]
    },
    {
      "cell_type": "code",
      "execution_count": null,
      "metadata": {
        "id": "3CtakTlODTRB",
        "outputId": "f72fd9e2-ae2d-4679-dcc7-fcc8098966d5"
      },
      "outputs": [
        {
          "name": "stdout",
          "output_type": "stream",
          "text": [
            "26\n"
          ]
        }
      ],
      "source": [
        "print(len(citation))"
      ]
    },
    {
      "cell_type": "markdown",
      "metadata": {
        "id": "PSURNtmODTRB"
      },
      "source": [
        "- `split()`: Diviser une chaîne en une liste"
      ]
    },
    {
      "cell_type": "code",
      "execution_count": null,
      "metadata": {
        "id": "K38B_yA5DTRB",
        "outputId": "7348d30a-4cd6-4689-dad9-4ba02b42fd36"
      },
      "outputs": [
        {
          "name": "stdout",
          "output_type": "stream",
          "text": [
            "['Draco', 'maior', 'est', 'animalibus']\n"
          ]
        }
      ],
      "source": [
        "mots = citation.split(\" \")\n",
        "print(mots)"
      ]
    },
    {
      "cell_type": "markdown",
      "metadata": {
        "id": "xlqm6qzNDTRC"
      },
      "source": [
        "##### **Exercice 5 : Manipulation de chaînes de caractères**\n",
        "A partir du paragraphe suivant affichez le nombre de phrase et le nombre de mots contenus dans la troisième phrase.\n",
        "\n",
        "*Les Cyranides*, Hermès Trismégiste (attribué à)\n",
        "\n",
        "**III, 14. De la colombe.**\n",
        "La colombe est un oiseau connu de tous. Il existe dans l'Inde un\n",
        "arbre appelé péridexion ; son fruit est si doux et si bon que les\n",
        "colombes, après en avoir mangé restent dans l'arbre et y font\n",
        "leur nid. Le serpent craint cet arbre au point d'en fuir même\n",
        "l'ombre. Si l'ombre de l'arbre s'étend vers l'orient le serpent fuit\n",
        "vers l'occident ; si l'ombre vient vers l'occident, le serpent court\n",
        "vers l’orient ; et la puissance de l'arbre l'empêche d'attraper les\n",
        "colombes. Mais si quelqu'une des colombes s'éloigne de l'arbre, le\n",
        "serpent les attire par son souffle et les mange. Mais si elles\n",
        "s'envolent toutes ensemble, ni le serpent, ni les oiseaux au vol\n",
        "rapide n'osent les toucher. Les feuilles de l'arbre ou son écorce, en\n",
        "fumigations, chassent toute espèce de mal.\n",
        "\n"
      ]
    },
    {
      "cell_type": "markdown",
      "metadata": {
        "id": "K8FuWM5qDTRC"
      },
      "source": [
        "*Solution :*"
      ]
    },
    {
      "cell_type": "code",
      "execution_count": null,
      "metadata": {
        "id": "pyU267zGDTRC"
      },
      "outputs": [],
      "source": [
        "# Votre code ici"
      ]
    },
    {
      "cell_type": "markdown",
      "metadata": {
        "id": "G7O5m0M2DTRC"
      },
      "source": [
        "### **Structures de contrôle : conditions et boucles**\n",
        "\n",
        "#### **1. Conditions**\n",
        "\n",
        "##### **Structure `if`, `elif`, `else`**"
      ]
    },
    {
      "cell_type": "code",
      "execution_count": null,
      "metadata": {
        "id": "xwyA3hj2DTRD",
        "outputId": "b157690a-2adc-44b9-9947-260508c30254"
      },
      "outputs": [
        {
          "name": "stdout",
          "output_type": "stream",
          "text": [
            "Majeur\n"
          ]
        }
      ],
      "source": [
        "age = 20\n",
        "if age < 18:\n",
        "    print(\"Mineur\")\n",
        "elif age == 18:\n",
        "    print(\"Tout juste majeur\")\n",
        "else:\n",
        "    print(\"Majeur\")"
      ]
    },
    {
      "cell_type": "markdown",
      "metadata": {
        "id": "4VEoLXvFDTRD"
      },
      "source": [
        "##### **Opérateurs de comparaison et logiques**\n",
        "\n",
        "- Opérateurs de comparaison : `==`, `!=`, `>`, `<`, `>=`, `<=`\n",
        "- Opérateurs logiques : `and`, `or`, `not`"
      ]
    },
    {
      "cell_type": "markdown",
      "metadata": {
        "id": "ygg3dPoNDTRD"
      },
      "source": [
        "##### **Exercice 6 : Vérification d'un nombre pair ou impair**\n",
        "\n",
        "Créez un script qui permet d'indiquer si un nombre est pair ou impair"
      ]
    },
    {
      "cell_type": "markdown",
      "metadata": {
        "id": "goT6UiFWDTRD"
      },
      "source": [
        "*Solution :*"
      ]
    },
    {
      "cell_type": "code",
      "execution_count": null,
      "metadata": {
        "id": "_J7-fOqgDTRD"
      },
      "outputs": [],
      "source": [
        "# Votre code ici"
      ]
    },
    {
      "cell_type": "markdown",
      "metadata": {
        "id": "qJJgYe5QDTRE"
      },
      "source": [
        "#### **2. Boucles bornées : `for`**\n",
        "\n",
        "Parcours d'une séquence (liste, chaîne, etc.)\n",
        "\n",
        "**Exemple avec une liste :**"
      ]
    },
    {
      "cell_type": "code",
      "execution_count": null,
      "metadata": {
        "id": "FI3G2lY6DTRE",
        "outputId": "3aea8802-a21b-407a-eda8-66fe52b6a42b"
      },
      "outputs": [
        {
          "name": "stdout",
          "output_type": "stream",
          "text": [
            "draco\n",
            "unicorn\n",
            "baslisk\n"
          ]
        }
      ],
      "source": [
        "animals = [\"draco\", \"unicorn\", \"baslisk\"]\n",
        "for animal in animals:\n",
        "    print(animal)"
      ]
    },
    {
      "cell_type": "markdown",
      "metadata": {
        "id": "vIlWM17HDTRE"
      },
      "source": [
        "**Utilisation de `range()`:**"
      ]
    },
    {
      "cell_type": "code",
      "execution_count": null,
      "metadata": {
        "id": "FZp-PYn5DTRF",
        "outputId": "a5099a3d-1fe5-4ac9-a120-e9df7bc395d5"
      },
      "outputs": [
        {
          "name": "stdout",
          "output_type": "stream",
          "text": [
            "0\n",
            "1\n",
            "2\n",
            "3\n",
            "4\n"
          ]
        }
      ],
      "source": [
        "for i in range(5):\n",
        "    print(i)"
      ]
    },
    {
      "cell_type": "markdown",
      "metadata": {
        "id": "dqDK12yADTRG"
      },
      "source": [
        "**Instructions `break` et `continue`:**\n",
        "\n",
        "- `break`: Sortir immédiatement de la boucle\n",
        "- `continue`: Passer à l'itération suivante\n",
        "\n",
        "**Exemple :**"
      ]
    },
    {
      "cell_type": "code",
      "execution_count": null,
      "metadata": {
        "id": "vC2RIKjkDTRH",
        "outputId": "1596bc0a-2485-4c85-de8e-c7bd73625bfc"
      },
      "outputs": [
        {
          "name": "stdout",
          "output_type": "stream",
          "text": [
            "0\n",
            "1\n",
            "2\n",
            "3\n",
            "4\n"
          ]
        }
      ],
      "source": [
        "for i in range(10):\n",
        "    if i == 5:\n",
        "        break\n",
        "    print(i)"
      ]
    },
    {
      "cell_type": "markdown",
      "metadata": {
        "id": "8l9kQLYRDTRH"
      },
      "source": [
        "##### **Exercice 7 : Calcul de la somme des nombres pairs de 1 à 100**\n",
        "\n",
        "Calculez et affichez la somme de tous les nombres pairs entre 1 et 100 inclus."
      ]
    },
    {
      "cell_type": "markdown",
      "metadata": {
        "id": "uqJOpxcuDTRH"
      },
      "source": [
        "*Solution :*"
      ]
    },
    {
      "cell_type": "code",
      "execution_count": null,
      "metadata": {
        "id": "k7hM8NnyDTRI"
      },
      "outputs": [],
      "source": [
        "# Votre code ici"
      ]
    },
    {
      "cell_type": "markdown",
      "metadata": {
        "id": "SxtJklTuDTRI"
      },
      "source": [
        "#### **3. Boucles non bornées : `while`**\n",
        "\n",
        "Exécute les instructions tant que la condition est vraie."
      ]
    },
    {
      "cell_type": "code",
      "execution_count": null,
      "metadata": {
        "id": "bMg3IWeGDTRI",
        "outputId": "313f0835-8fc2-431d-ab4e-c7d735d145a5"
      },
      "outputs": [
        {
          "name": "stdout",
          "output_type": "stream",
          "text": [
            "Compteur : 0\n",
            "Compteur : 1\n",
            "Compteur : 2\n",
            "Compteur : 3\n",
            "Compteur : 4\n"
          ]
        }
      ],
      "source": [
        "compteur = 0\n",
        "while compteur < 5:\n",
        "    print(\"Compteur :\", compteur)\n",
        "    compteur += 1"
      ]
    },
    {
      "cell_type": "markdown",
      "metadata": {
        "id": "sQN0xN75DTRI"
      },
      "source": [
        "**Instructions `break` et `continue` fonctionnent également avec `while`.**"
      ]
    },
    {
      "cell_type": "markdown",
      "metadata": {
        "id": "KU35PXBkDTRJ"
      },
      "source": [
        "##### **Exercice 8 : Jeu de devinette**\n",
        "\n",
        "L'ordinateur choisit un nombre aléatoire entre 1 et 10. L'utilisateur doit deviner le nombre. Indiquez si le nombre saisi est trop petit ou trop grand jusqu'à ce que l'utilisateur trouve le bon nombre.\n",
        "\n",
        "*Indice : Utilisez le module `random` pour générer un nombre aléatoire.*"
      ]
    },
    {
      "cell_type": "markdown",
      "metadata": {
        "id": "9JOW1VLWDTRJ"
      },
      "source": [
        "*Solution :*"
      ]
    },
    {
      "cell_type": "code",
      "execution_count": null,
      "metadata": {
        "id": "CxJoCMI8DTRJ"
      },
      "outputs": [],
      "source": [
        "# Votre code ici"
      ]
    },
    {
      "cell_type": "markdown",
      "metadata": {
        "id": "dJ5Z-2AYDTRK"
      },
      "source": [
        "### **Conclusion**\n",
        "\n",
        "Dans ce notebook, nous avons couvert les bases de la programmation en Python :\n",
        "\n",
        "- Les **types de données de base** et les **structures de données** (listes, tuples, dictionnaires)\n",
        "- Les **opérateurs** et les **méthodes utiles** pour manipuler les données\n",
        "- Les **structures de contrôle** avec les **conditions** et les **boucles**\n",
        "\n",
        "---"
      ]
    }
  ],
  "metadata": {
    "kernelspec": {
      "display_name": "3.12.6",
      "language": "python",
      "name": "python3"
    },
    "language_info": {
      "codemirror_mode": {
        "name": "ipython",
        "version": 3
      },
      "file_extension": ".py",
      "mimetype": "text/x-python",
      "name": "python",
      "nbconvert_exporter": "python",
      "pygments_lexer": "ipython3",
      "version": "3.12.6"
    },
    "colab": {
      "provenance": []
    }
  },
  "nbformat": 4,
  "nbformat_minor": 0
}