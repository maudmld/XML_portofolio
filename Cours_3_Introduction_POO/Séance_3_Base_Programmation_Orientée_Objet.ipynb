{
  "cells": [
    {
      "cell_type": "markdown",
      "metadata": {
        "id": "_opAzzD1i_QN"
      },
      "source": [
        "# Séance 3 - Base de la Programmation Orientée Objet\n",
        "\n",
        "---"
      ]
    },
    {
      "cell_type": "markdown",
      "metadata": {
        "id": "_xRX7ldti_QO"
      },
      "source": [
        "## Table des Matières\n",
        "\n",
        "1. [Révisions](#Révisions)\n",
        "    - [Commentaires de code](#Commentaires-de-code)\n",
        "        - [Pourquoi commenter son code ?](#Pourquoi-commenter-son-code-?)\n",
        "        - [Commentaire docstring (`\"\"\"...\"\"\"`)](#Commentaire-docstring)\n",
        "        - [Commentaire en ligne (`#`)](#Commentaire-en-ligne)\n",
        "    - [Fonctions](#Fonctions)\n",
        "        - [Importance des fonctions](#Importance-des-fonctions)\n",
        "        - [Structure d'une fonction](#Structure-d'une-fonction)\n",
        "        - [Fonction lambda](#Fonction-lambda)\n",
        "    - [Modules](#Modules)\n",
        "        - [Rappels](#Rappels)\n",
        "        - [Le fichier `__init__.py`](#Le-fichier-__init__.py)\n",
        "        - [Import de modules](#Import-de-modules)\n",
        "2. [Introduction aux Classes et Objets](#Introduction-aux-Classes-et-Objets)\n",
        "    - [Qu'est-ce que la POO ?](#Qu'est-ce-que-la-POO-?)\n",
        "    - [Les Classes](#Les-Classes)\n",
        "    - [Les Objets](#Les-Objets)\n",
        "    -\n",
        "3. [Les Méthodes et les Attributs](#Les-Méthodes-et-les-Attributs)\n",
        "    - [Les Attributs d'Instance](#Les-Attributs-d'Instance)\n",
        "    - [Les Attributs de Classe](#Les-Attributs-de-Classe)\n",
        "    - [La Méthode `__init__` et le Paramètre `self`](#La-Méthode-__init__-et-le-Paramètre-self)\n",
        "3. [Exemples Pratiques et Exercices](#Exemples-Pratiques-et-Exercices)\n",
        "\n",
        "---"
      ]
    },
    {
      "cell_type": "markdown",
      "metadata": {
        "vscode": {
          "languageId": "plaintext"
        },
        "id": "epZBoi2Ui_QQ"
      },
      "source": [
        "## Révisions\n",
        "\n",
        "### Commentaires de code\n",
        "\n",
        "#### Pourquoi commenter son code ?\n",
        "\n",
        "Les commentaires sont des notes que vous laissez dans votre code pour expliquer ce qu'il fait. Ils ne sont pas exécutés par l'interpréteur Python, mais ils sont essentiels pour :\n",
        "\n",
        "- **Améliorer la lisibilité et la compréhension** : Aider les autres (et vous-même) à comprendre ce que fait le code.\n",
        "- **Faciliter la maintenance et la collaboration** : Rendre le code plus facile à mettre à jour et à partager avec d'autres développeurs.\n",
        "- **Servir de documentation** : Expliquer les fonctionnalités, les paramètres et les retours des fonctions ou classes.\n",
        "\n",
        "#### Commentaire docstring\n",
        "\n",
        "Les **docstrings** sont des chaînes de documentation placées juste après la définition d'une fonction, d'une classe ou d'un module. Elles sont définies entre triple guillemets (`\"\"\"...\"\"\"`) et peuvent s'étendre sur plusieurs lignes."
      ]
    },
    {
      "cell_type": "markdown",
      "metadata": {
        "id": "mMqGG_38i_QQ"
      },
      "source": [
        "##### Exemple :"
      ]
    },
    {
      "cell_type": "code",
      "execution_count": null,
      "metadata": {
        "id": "ltnLtssti_QS"
      },
      "outputs": [],
      "source": [
        "def analyser_texte(texte):\n",
        "    \"\"\"\n",
        "    Analyse un texte donné et retourne le nombre de mots.\n",
        "\n",
        "    Paramètres:\n",
        "    :param texte (str):\n",
        "        - Type: str\n",
        "        - Description Le texte à analyser.\n",
        "\n",
        "    Retourne:\n",
        "        - Type : int\n",
        "        - Description : Le nombre de mots dans le texte.\n",
        "    \"\"\"\n",
        "    mots = texte.split()\n",
        "    return len(mots)"
      ]
    },
    {
      "cell_type": "markdown",
      "metadata": {
        "id": "vYrScMXUi_QS"
      },
      "source": [
        "#### Commentaire en ligne\n",
        "\n",
        "Les commentaires en ligne commencent par le symbole `#` et s'étendent jusqu'à la fin de la ligne. Ils sont utilisés pour expliquer des parties spécifiques du code."
      ]
    },
    {
      "cell_type": "markdown",
      "metadata": {
        "id": "O7S-gSq7i_QT"
      },
      "source": [
        "##### Exemple :"
      ]
    },
    {
      "cell_type": "code",
      "execution_count": null,
      "metadata": {
        "id": "uwQG34WPi_QT"
      },
      "outputs": [],
      "source": [
        "# Initialisation de la liste des événements historiques\n",
        "evenements = []\n",
        "\n",
        "# Ajout d'un événement à la liste\n",
        "evenements.append(\"Chute de l'Empire romain en 476\")"
      ]
    },
    {
      "cell_type": "markdown",
      "metadata": {
        "id": "sT4neJLii_QU"
      },
      "source": [
        "---\n",
        "\n",
        "### Fonctions\n",
        "\n",
        "#### Importance des fonctions\n",
        "\n",
        "Les fonctions permettent de :\n",
        "\n",
        "- **Modulariser le code** : Diviser le code en blocs réutilisables.\n",
        "- **Réduire la redondance** : Éviter de répéter le même code plusieurs fois.\n",
        "- **Améliorer la lisibilité** : Rendre le code plus facile à comprendre.\n",
        "\n",
        "#### Structure d'une fonction\n",
        "\n",
        "Une fonction en Python est définie avec le mot-clé `def`, suivi du nom de la fonction et des parenthèses contenant éventuellement des paramètres.\n",
        "\n",
        "##### Syntaxe de base :"
      ]
    },
    {
      "cell_type": "code",
      "execution_count": null,
      "metadata": {
        "id": "ZAdqDWisi_QV"
      },
      "outputs": [],
      "source": [
        "def nom_de_la_fonction(paramètre1, paramètre2):\n",
        "    # Bloc de code de la fonction\n",
        "    resultat = ''\n",
        "    return resultat"
      ]
    },
    {
      "cell_type": "markdown",
      "metadata": {
        "id": "4qsFKxxwi_QV"
      },
      "source": [
        "##### Exemple :"
      ]
    },
    {
      "cell_type": "code",
      "execution_count": null,
      "metadata": {
        "id": "Fy7Rbm3Ui_QW"
      },
      "outputs": [],
      "source": [
        "def calculer_annees_regne(date1, date2):\n",
        "    \"\"\"\n",
        "    Calcule le nombre d'années entre deux dates.\n",
        "\n",
        "    Paramètres:\n",
        "    date1 (int): La première date.\n",
        "    date2 (int): La deuxième date.\n",
        "\n",
        "    Retourne:\n",
        "    int: Le nombre d'années entre les deux dates.\n",
        "    \"\"\"\n",
        "    return abs(date2 - date1)"
      ]
    },
    {
      "cell_type": "markdown",
      "metadata": {
        "id": "zEB8GN_Wi_QW"
      },
      "source": [
        "#### Fonction lambda\n",
        "\n",
        "Les **fonctions lambda** sont des fonctions anonymes, définies en une seule ligne avec le mot-clé `lambda`. Elles sont souvent utilisées pour des opérations simples.\n",
        "\n",
        "##### Syntaxe :\n",
        "\n",
        "lambda paramètres: expression"
      ]
    },
    {
      "cell_type": "markdown",
      "metadata": {
        "id": "vI-jEvD1i_QW"
      },
      "source": [
        "##### Exemple :"
      ]
    },
    {
      "cell_type": "code",
      "execution_count": 1,
      "metadata": {
        "colab": {
          "base_uri": "https://localhost:8080/"
        },
        "id": "428CFjOri_QW",
        "outputId": "e879f0b8-0de5-425a-bd17-f30f6279cb48"
      },
      "outputs": [
        {
          "output_type": "stream",
          "name": "stdout",
          "text": [
            "15\n"
          ]
        }
      ],
      "source": [
        "# Fonction lambda pour ajouter 10 à un nombre\n",
        "ajouter_dix = lambda x: x + 10\n",
        "print(ajouter_dix(5))  # Affiche 15"
      ]
    },
    {
      "cell_type": "markdown",
      "metadata": {
        "id": "wfRkDzx5i_QX"
      },
      "source": [
        "---\n",
        "\n",
        "### Modules\n",
        "\n",
        "#### Rappels\n",
        "\n",
        "Un **module** est un fichier Python contenant du code (fonctions, classes, variables) que vous pouvez réutiliser dans d'autres scripts en l'important. Les modules permettent de :\n",
        "\n",
        "- **Organiser le code** : Structurer le code en parties logiques.\n",
        "- **Réutiliser le code** : Importer des fonctions ou classes dans plusieurs scripts.\n",
        "\n",
        "#### Le fichier `__init__.py`\n",
        "\n",
        "Le fichier `__init__.py` est utilisé pour indiquer qu'un répertoire doit être traité comme un **package** Python. Il peut être vide ou contenir du code d'initialisation pour le package.\n",
        "\n",
        "##### Exemple de structure de package :\n",
        "\n",
        "```\n",
        "mon_package/\n",
        "├── __init__.py\n",
        "├── module1.py\n",
        "└── module2.py\n",
        "```\n",
        "\n",
        "#### Import de modules\n",
        "\n",
        "Il existe plusieurs façons d'importer des modules en Python.\n",
        "\n",
        "##### Importation standard"
      ]
    },
    {
      "cell_type": "code",
      "execution_count": null,
      "metadata": {
        "id": "Pw0zXt3mi_QX",
        "outputId": "e0c48fcb-a9e6-4359-89f4-fe10dffc8dbd"
      },
      "outputs": [
        {
          "name": "stdout",
          "output_type": "stream",
          "text": [
            "3.141592653589793\n"
          ]
        }
      ],
      "source": [
        "import math\n",
        "\n",
        "print(math.pi)"
      ]
    },
    {
      "cell_type": "markdown",
      "metadata": {
        "id": "jnrEyAG_i_QY"
      },
      "source": [
        "##### Importation spécifique"
      ]
    },
    {
      "cell_type": "code",
      "execution_count": null,
      "metadata": {
        "id": "ce41xAyai_QY",
        "outputId": "4ee8b730-5f38-4bda-a42a-94c239ee7e78"
      },
      "outputs": [
        {
          "name": "stdout",
          "output_type": "stream",
          "text": [
            "3.141592653589793\n"
          ]
        }
      ],
      "source": [
        "from math import pi\n",
        "\n",
        "print(pi)"
      ]
    },
    {
      "cell_type": "markdown",
      "metadata": {
        "id": "g8YjfJaMi_QZ"
      },
      "source": [
        "##### Utilisation d'alias"
      ]
    },
    {
      "cell_type": "code",
      "execution_count": null,
      "metadata": {
        "id": "dlkEPQvGi_QZ",
        "outputId": "51b00715-f237-4fc9-8e7d-7b8147d985ec"
      },
      "outputs": [
        {
          "name": "stdout",
          "output_type": "stream",
          "text": [
            "3.141592653589793\n"
          ]
        }
      ],
      "source": [
        "import math as m\n",
        "\n",
        "print((m.pi))"
      ]
    },
    {
      "cell_type": "markdown",
      "metadata": {
        "id": "XFoLLK4xi_QZ"
      },
      "source": [
        "---\n",
        "\n",
        "## Introduction aux Classes et Objets\n",
        "\n",
        "### Qu'est-ce que la POO ?\n",
        "\n",
        "La **Programmation Orientée Objet (POO)** est un paradigme de programmation qui utilise des **objets** et des **classes** pour créer des modèles basés sur le monde réel. Elle facilite :\n",
        "\n",
        "- **L'organisation du code** : En regroupant les données et les fonctions qui les manipulent.\n",
        "- **La réutilisation du code** : Grâce à l'héritage et aux classes génériques.\n",
        "- **La maintenance** : En rendant le code plus modulaire et plus facile à comprendre.\n",
        "\n",
        "### Les Classes\n",
        "\n",
        "#### Définition d'une classe en programmation\n",
        "\n",
        "- Une **classe** est un plan ou un modèle qui définit les attributs (données) et les méthodes (comportements) que les objets créés à partir de cette classe posséderont.\n",
        "\n",
        "#### Syntaxe en Python"
      ]
    },
    {
      "cell_type": "code",
      "execution_count": null,
      "metadata": {
        "id": "sn2mDI0Ui_QZ"
      },
      "outputs": [],
      "source": [
        "class NomDeLaClasse:\n",
        "    # Corps de la classe\n",
        "    pass\n",
        "\n"
      ]
    },
    {
      "cell_type": "markdown",
      "metadata": {
        "id": "4k_zsEwIi_Qa"
      },
      "source": [
        "- **Convention de nommage** : Les noms de classes sont généralement écrits en **CamelCase**.\n",
        "\n",
        "##### Exemple :"
      ]
    },
    {
      "cell_type": "code",
      "execution_count": null,
      "metadata": {
        "id": "yFFhF0Cyi_Qa",
        "outputId": "9bf6c938-f424-4339-80da-a1cf7557ea0e"
      },
      "outputs": [
        {
          "name": "stdout",
          "output_type": "stream",
          "text": [
            "<class '__main__.Personnage'>\n"
          ]
        }
      ],
      "source": [
        "class Personnage:\n",
        "    pass\n",
        "\n",
        "print(Personnage)"
      ]
    },
    {
      "cell_type": "markdown",
      "metadata": {
        "id": "jF_6ThIhi_Qa"
      },
      "source": [
        "### Les Objets\n",
        "\n",
        "#### Qu'est-ce qu'un objet ?\n",
        "\n",
        "- Un **objet** est une instance concrète d'une classe. Il possède ses propres attributs et peut utiliser les méthodes définies par sa classe.\n",
        "\n",
        "#### Création d'instances\n",
        "\n",
        "Pour créer une instance d'une classe :\n",
        "\n",
        "```python\n",
        "nom_de_l_instance = NomDeLaClasse()\n",
        "```\n",
        "##### Exemple :"
      ]
    },
    {
      "cell_type": "code",
      "execution_count": 1,
      "metadata": {
        "colab": {
          "base_uri": "https://localhost:8080/"
        },
        "id": "9yxSO4CAi_Qb",
        "outputId": "00fb5afc-1f38-4c73-f980-da8fafcd3b00"
      },
      "outputs": [
        {
          "output_type": "stream",
          "name": "stdout",
          "text": [
            "<__main__.Personnage object at 0x78680d346690>\n"
          ]
        }
      ],
      "source": [
        "class Personnage:\n",
        "    pass\n",
        "\n",
        "Zelda = Personnage()\n",
        "print(Zelda)"
      ]
    },
    {
      "cell_type": "markdown",
      "metadata": {
        "id": "R9IxNJdNi_Qc"
      },
      "source": [
        "## Les Méthodes et les Attributs\n",
        "\n",
        "### Les Attributs de Classe\n",
        "\n",
        "- **Définition** : Variables partagées par toutes les instances de la classe, définies directement dans la classe.\n",
        "- **Utilisation** : Pour des valeurs communes à toutes les instances.\n",
        "\n",
        "#### Exemple :"
      ]
    },
    {
      "cell_type": "code",
      "execution_count": null,
      "metadata": {
        "id": "zX7WLI0xi_Qc",
        "outputId": "a6d984f3-aeb0-4deb-e197-564907a6b2bc"
      },
      "outputs": [
        {
          "name": "stdout",
          "output_type": "stream",
          "text": [
            "princesse Hyrule prêtresse\n",
            "Zelda est la princesse du royaume d'Hyrule, où elle est prêtresse\n"
          ]
        }
      ],
      "source": [
        "class Personnage:\n",
        "    fonction = \"princesse\"\n",
        "    royaume = \"Hyrule\"\n",
        "    pouvoir = \"prêtresse\"\n",
        "\n",
        "Zelda = Personnage()\n",
        "print(Zelda.fonction, Zelda.royaume, Zelda.pouvoir)\n",
        "print(f\"Zelda est la {Zelda.fonction} du royaume d'{Zelda.royaume}, où elle est {Zelda.pouvoir}\")"
      ]
    },
    {
      "cell_type": "markdown",
      "metadata": {
        "id": "Rv4CgZmri_Qc"
      },
      "source": [
        "### Modification d'un attribut de classe\n",
        "\n",
        "#### Via la classe :\n",
        "\n",
        "Si vous modifiez un attribut de classe directement via la classe, toutes les instances existantes et futures refléteront ce changement, car elles accèdent à cet attribut à travers la classe."
      ]
    },
    {
      "cell_type": "code",
      "source": [
        "Hornet = Personnage ()\n",
        "Hornet.fonction = \"Wyrme\"\n",
        "Hornet.pouvoir = \"tisser\"\n",
        "Hornet.royaume = \"Pharloom\"\n",
        "print(Hornet.fonction, Hornet.pouvoir, Hornet.royaume)\n",
        "print(f\"L'héroïne est une {Hornet.fonction}, elle a le pouvoir de {Hornet.pouvoir} et elle explore le royaume de {Hornet.royaume}\")"
      ],
      "metadata": {
        "colab": {
          "base_uri": "https://localhost:8080/"
        },
        "id": "d0bp7_o35deo",
        "outputId": "beac4c43-9208-40e3-f5ac-5dc5e0dcc10e"
      },
      "execution_count": 3,
      "outputs": [
        {
          "output_type": "stream",
          "name": "stdout",
          "text": [
            "Wyrme tisser Pharloom\n",
            "L'héroïne est une Wyrme, elle a le pouvoir de tisser et elle explore le royaume de Pharloom\n"
          ]
        }
      ]
    },
    {
      "cell_type": "code",
      "execution_count": null,
      "metadata": {
        "id": "WGEpT7Nri_Qc",
        "outputId": "d06ade62-9a78-4f12-974a-bfa20e6fef8b"
      },
      "outputs": [
        {
          "name": "stdout",
          "output_type": "stream",
          "text": [
            "New Hyrule\n"
          ]
        }
      ],
      "source": [
        "Personnage.royaume = \"New Hyrule\"\n",
        "print(Zelda.royaume)  # Affiche : New Hyrule"
      ]
    },
    {
      "cell_type": "markdown",
      "metadata": {
        "id": "92knmo83i_Qd"
      },
      "source": [
        "#### Via une instance :\n",
        "\n",
        "Si vous modifiez un attribut via une instance, cela ne modifie pas l'attribut de la classe, mais crée un nouvel attribut d'instance pour cette instance uniquement. Les autres instances et la classe conservent leur version de l'attribut de classe."
      ]
    },
    {
      "cell_type": "code",
      "execution_count": 4,
      "metadata": {
        "colab": {
          "base_uri": "https://localhost:8080/",
          "height": 193
        },
        "id": "rarePDxyi_Qd",
        "outputId": "25d15925-8566-4fa3-d7d2-535fc162b437"
      },
      "outputs": [
        {
          "output_type": "stream",
          "name": "stdout",
          "text": [
            "sorcière\n"
          ]
        },
        {
          "output_type": "error",
          "ename": "AttributeError",
          "evalue": "type object 'Personnage' has no attribute 'pouvoir'",
          "traceback": [
            "\u001b[0;31m---------------------------------------------------------------------------\u001b[0m",
            "\u001b[0;31mAttributeError\u001b[0m                            Traceback (most recent call last)",
            "\u001b[0;32m/tmp/ipython-input-3027830143.py\u001b[0m in \u001b[0;36m<cell line: 0>\u001b[0;34m()\u001b[0m\n\u001b[1;32m      1\u001b[0m \u001b[0mZelda\u001b[0m\u001b[0;34m.\u001b[0m\u001b[0mpouvoir\u001b[0m \u001b[0;34m=\u001b[0m \u001b[0;34m\"sorcière\"\u001b[0m\u001b[0;34m\u001b[0m\u001b[0;34m\u001b[0m\u001b[0m\n\u001b[1;32m      2\u001b[0m \u001b[0mprint\u001b[0m\u001b[0;34m(\u001b[0m\u001b[0mZelda\u001b[0m\u001b[0;34m.\u001b[0m\u001b[0mpouvoir\u001b[0m\u001b[0;34m)\u001b[0m         \u001b[0;31m# Affiche : sorcière\u001b[0m\u001b[0;34m\u001b[0m\u001b[0;34m\u001b[0m\u001b[0m\n\u001b[0;32m----> 3\u001b[0;31m \u001b[0mprint\u001b[0m\u001b[0;34m(\u001b[0m\u001b[0mPersonnage\u001b[0m\u001b[0;34m.\u001b[0m\u001b[0mpouvoir\u001b[0m\u001b[0;34m)\u001b[0m    \u001b[0;31m# Affiche : prêtresse\u001b[0m\u001b[0;34m\u001b[0m\u001b[0;34m\u001b[0m\u001b[0m\n\u001b[0m",
            "\u001b[0;31mAttributeError\u001b[0m: type object 'Personnage' has no attribute 'pouvoir'"
          ]
        }
      ],
      "source": [
        "Zelda.pouvoir = \"sorcière\"\n",
        "print(Zelda.pouvoir)         # Affiche : sorcière\n",
        "# print(Personnage.pouvoir)    # This will raise an AttributeError\n",
        "print(Personnage.__dict__['pouvoir']) # Access the class attribute directly using __dict__"
      ]
    },
    {
      "cell_type": "markdown",
      "metadata": {
        "id": "1qtz35k9i_Qd"
      },
      "source": [
        "### Les Attributs d'Instance\n",
        "\n",
        "- **Définition** : Variables propres à chaque objet, définies dans la méthode `__init__`.\n",
        "- **Création** : Utilisent le mot-clé `self` pour faire référence à l'instance elle-même.\n",
        "\n",
        "#### Exemple :"
      ]
    },
    {
      "cell_type": "code",
      "execution_count": 7,
      "metadata": {
        "colab": {
          "base_uri": "https://localhost:8080/"
        },
        "id": "zikoLBeMi_Qe",
        "outputId": "f4da408b-1e83-479c-8f1d-8a1b41203f14"
      },
      "outputs": [
        {
          "output_type": "stream",
          "name": "stdout",
          "text": [
            "Zelda Princesse Hyrule\n",
            "Hornet Guerrière Pharloom\n"
          ]
        }
      ],
      "source": [
        "class Personnage:\n",
        "    def __init__(self, nom, fonction, royaume):\n",
        "        self.nom = nom\n",
        "        self.fonction = fonction\n",
        "        self.royaume = royaume\n",
        "\n",
        "Zelda = Personnage(\"Zelda\", \"Princesse\",\"Hyrule\")\n",
        "print(Zelda.nom, Zelda.fonction, Zelda.royaume)\n",
        "\n",
        "Hornet = Personnage(\"Hornet\", \"Guerrière\",\"Pharloom\")\n",
        "print(Hornet.nom, Hornet.fonction, Hornet.royaume)"
      ]
    },
    {
      "cell_type": "markdown",
      "metadata": {
        "id": "NIjLw6zMi_Qe"
      },
      "source": [
        "### La Méthode `__init__` et le Paramètre `self`\n",
        "\n",
        "#### La méthode `__init__`\n",
        "\n",
        "- **Rôle** : Méthode spéciale appelée **constructeur**, utilisée pour initialiser les attributs d'une instance lors de sa création.\n",
        "\n",
        "#### Le paramètre `self`\n",
        "\n",
        "- **Définition** : Représente l'instance de l'objet lui-même.\n",
        "- **Utilisation** : Permet d'accéder aux attributs et méthodes de la classe à l'intérieur de ses méthodes.\n",
        "\n",
        "##### Exemple :"
      ]
    },
    {
      "cell_type": "code",
      "execution_count": null,
      "metadata": {
        "id": "-2wl-KsRi_Qe",
        "outputId": "4a1db413-bcf8-43ca-eb1f-fbe8b841c03e"
      },
      "outputs": [
        {
          "name": "stdout",
          "output_type": "stream",
          "text": [
            "Je m'appelle Zelda et je suis Princesse.\n"
          ]
        }
      ],
      "source": [
        "class Personnage:\n",
        "    def __init__(self, nom, fonction):\n",
        "        self.nom = nom\n",
        "        self.fonction = fonction\n",
        "\n",
        "    def se_presenter(self):\n",
        "        print(f\"Je m'appelle {self.nom} et je suis {self.fonction}.\")\n",
        "\n",
        "Zelda = Personnage(\"Zelda\", \"Princesse\")\n",
        "Zelda.se_presenter()"
      ]
    },
    {
      "cell_type": "markdown",
      "metadata": {
        "id": "4KK8nXi5i_Qe"
      },
      "source": [
        "---\n",
        "\n",
        "## Exemples Pratiques et Exercices\n",
        "\n",
        "### Exemple : Classe `Personnage` avec Méthodes et Attributs"
      ]
    },
    {
      "cell_type": "code",
      "execution_count": null,
      "metadata": {
        "id": "RglMLfyBi_Qf",
        "outputId": "21a139f9-0608-476c-cf2d-12f36aae97c9"
      },
      "outputs": [
        {
          "name": "stdout",
          "output_type": "stream",
          "text": [
            "Zelda est Princesse du royaume d'Hyrule et a le pouvoir de Prêtresse\n",
            "Niveau d'expérience : 2\n",
            "Link est Élu du royaume d'Hyrule et a le pouvoir de Sauveur du royaume\n",
            "Niveau d'expérience : 0\n"
          ]
        }
      ],
      "source": [
        "class Personnage:\n",
        "    def __init__(self, nom, fonction, royaume, pouvoir, xp):\n",
        "        self.nom = nom\n",
        "        self.fonction = fonction\n",
        "        self.royaume = royaume\n",
        "        self.pouvoir = pouvoir\n",
        "        self.xp = xp\n",
        "\n",
        "    def gain_xp(self, gxp):\n",
        "        self.xp += gxp\n",
        "\n",
        "    def infos(self):\n",
        "        print(f\"{self.nom} est {self.fonction} du royaume d'{self.royaume} et a le pouvoir de {self.pouvoir}\")\n",
        "        print(f\"Niveau d'expérience : {self.xp}\")\n",
        "\n",
        "# Création de l'instance Zelda\n",
        "Zelda = Personnage(\"Zelda\", \"Princesse\", \"Hyrule\", \"Prêtresse\", 0)\n",
        "Zelda.gain_xp(2)\n",
        "Zelda.infos()\n",
        "\n",
        "# Création de l'instance Link\n",
        "Link = Personnage(\"Link\", \"Élu\", \"Hyrule\", \"Sauveur du royaume\", 0)\n",
        "Link.infos()"
      ]
    },
    {
      "cell_type": "markdown",
      "metadata": {
        "id": "pQ3O0qfEi_Qf"
      },
      "source": [
        "### Exercices\n",
        "\n",
        "#### Exercice 1 : Ajouter une Méthode `niveau`\n",
        "\n",
        "**Objectif** : Ajouter une méthode `niveau` à la classe `Personnage` qui détermine le niveau du personnage en fonction de son expérience (`xp`).\n",
        "\n",
        "- **Niveaux** :\n",
        "    - `xp` < 5 : Niveau \"Débutant\"\n",
        "    - 5 <= `xp` < 10 : Niveau \"Intermédiaire\"\n",
        "    - `xp` >= 10 : Niveau \"Expert\"\n",
        "\n",
        "**Instructions** :\n",
        "\n",
        "1. Ajouter la méthode `niveau` à la classe `Personnage`.\n",
        "2. Modifier la méthode `infos` pour afficher le niveau du personnage.\n",
        "3. Créer un personnage, lui faire gagner de l'expérience, et afficher ses informations.\n"
      ]
    },
    {
      "cell_type": "code",
      "execution_count": 9,
      "metadata": {
        "colab": {
          "base_uri": "https://localhost:8080/"
        },
        "id": "AOhlSRUgi_Qf",
        "outputId": "ecdd7b0d-8b50-43a3-c964-9813e0d94b7c"
      },
      "outputs": [
        {
          "output_type": "stream",
          "name": "stdout",
          "text": [
            "Zelda est Princesse du royaume d'Hyrule et a le pouvoir de Prêtresse\n",
            "Niveau d'expérience : 2\n",
            "Débutant\n",
            "Link est Élu du royaume d'Hyrule et a le pouvoir de Sauveur du royaume\n",
            "Niveau d'expérience : 12\n",
            "Expert\n"
          ]
        }
      ],
      "source": [
        "class Personnage:\n",
        "    def __init__(self, nom, fonction, royaume, pouvoir, xp):\n",
        "        self.nom = nom\n",
        "        self.fonction = fonction\n",
        "        self.royaume = royaume\n",
        "        self.pouvoir = pouvoir\n",
        "        self.xp = xp\n",
        "\n",
        "    def gain_xp(self, gxp):\n",
        "        self.xp += gxp\n",
        "\n",
        "    def infos(self):\n",
        "        print(f\"{self.nom} est {self.fonction} du royaume d'{self.royaume} et a le pouvoir de {self.pouvoir}\")\n",
        "        print(f\"Niveau d'expérience : {self.xp}\")\n",
        "\n",
        "    def niveau(self):\n",
        "        if self.xp < 5:\n",
        "            print (\"Débutant\")\n",
        "        if self.xp >= 5 and self.xp < 10:\n",
        "            print (\"Intermédiaire\")\n",
        "        if self.xp >= 10:\n",
        "            print (\"Expert\")\n",
        "\n",
        "# Création de l'instance Zelda\n",
        "Zelda = Personnage(\"Zelda\", \"Princesse\", \"Hyrule\", \"Prêtresse\", 0)\n",
        "Zelda.gain_xp(2)\n",
        "Zelda.infos()\n",
        "Zelda.niveau()\n",
        "\n",
        "# Création de l'instance Link\n",
        "Link = Personnage(\"Link\", \"Élu\", \"Hyrule\", \"Sauveur du royaume\", 0)\n",
        "Link.gain_xp(12)\n",
        "Link.infos()\n",
        "Link.niveau()"
      ]
    },
    {
      "cell_type": "markdown",
      "metadata": {
        "id": "mlPLq0UPi_Qf"
      },
      "source": [
        "#### Exercice 2 : Créer une Classe `EvenementHistorique`\n",
        "\n",
        "**Objectif** : Créer une classe `EvenementHistorique` pour modéliser des événements historiques.\n",
        "\n",
        "**Instructions** :\n",
        "\n",
        "1. Créer la classe avec les attributs `nom`, `date`, `lieu`, `description`.\n",
        "2. Ajouter une méthode `afficher_details` qui affiche toutes les informations de l'événement.\n",
        "3. Instancier plusieurs événements et afficher leurs détails."
      ]
    },
    {
      "cell_type": "code",
      "execution_count": 22,
      "metadata": {
        "colab": {
          "base_uri": "https://localhost:8080/"
        },
        "id": "AfoZfzlAi_Qg",
        "outputId": "f26d07e3-4b52-4bca-b354-92eac876ac0b"
      },
      "outputs": [
        {
          "output_type": "stream",
          "name": "stdout",
          "text": [
            "Nom : Assassinat de Lincoln\n",
            "Date : 1865\n",
            "Lieu : Washington\n",
            "Description : Le président Abraham Lincoln est tué d'une balle au théâtre\n",
            "Nom : Invention de l'alphabet arménien\n",
            "Date : Ve siècle\n",
            "Lieu : Arménie\n",
            "Description : Le moine Mesrop Mashtots invente un alphabet arménien\n",
            "Nom : Invention de l'alphabet arménien\n",
            "Date : Ve siècle\n",
            "Lieu : Arménie\n",
            "Description : Le moine Mesrop Mashtots invente un alphabet arménien\n"
          ]
        }
      ],
      "source": [
        "class EvenementHistorique :\n",
        "    def __init__(self, nom, date, lieu, description):\n",
        "      self.nom = nom\n",
        "      self.date = date\n",
        "      self.lieu = lieu\n",
        "      self.description = description\n",
        "\n",
        "    def afficher_details(self) :\n",
        "      print(f\"Nom : {self.nom}\")\n",
        "      print(f\"Date : {self.date}\")\n",
        "      print(f\"Lieu : {self.lieu}\")\n",
        "      print(f\"Description : {self.description}\")\n",
        "\n",
        "Evenement1 = EvenementHistorique (nom=\"Assassinat de Lincoln\", date=\"1865\", lieu=\"Washington\", description=\"Le président Abraham Lincoln est tué d'une balle au théâtre\")\n",
        "Evenement1.afficher_details()\n",
        "\n",
        "Evenement2 = EvenementHistorique (nom=\"Invention de l'alphabet arménien\", date=\"Ve siècle\", lieu=\"Arménie\", description=\"Le moine Mesrop Mashtots invente un alphabet arménien\")\n",
        "Evenement2.afficher_details ()\n",
        "\n",
        "Evenement3 = EvenementHistorique (nom=\"Fin du monde\", date=\"2012\", lieu=\"Monde\", description=\"Evenement de la fin du monde tel que prédit par les Mayas\")\n",
        "Evenement2.afficher_details ()"
      ]
    }
  ],
  "metadata": {
    "kernelspec": {
      "display_name": "3.12.6",
      "language": "python",
      "name": "python3"
    },
    "language_info": {
      "codemirror_mode": {
        "name": "ipython",
        "version": 3
      },
      "file_extension": ".py",
      "mimetype": "text/x-python",
      "name": "python",
      "nbconvert_exporter": "python",
      "pygments_lexer": "ipython3",
      "version": "3.12.6"
    },
    "colab": {
      "provenance": []
    }
  },
  "nbformat": 4,
  "nbformat_minor": 0
}